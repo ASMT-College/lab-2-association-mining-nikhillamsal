{
  "nbformat": 4,
  "nbformat_minor": 0,
  "metadata": {
    "colab": {
      "provenance": [],
      "authorship_tag": "ABX9TyMbJWqo1x9SRfZE5LvUhwzk",
      "include_colab_link": true
    },
    "kernelspec": {
      "name": "python3",
      "display_name": "Python 3"
    },
    "language_info": {
      "name": "python"
    }
  },
  "cells": [
    {
      "cell_type": "markdown",
      "metadata": {
        "id": "view-in-github",
        "colab_type": "text"
      },
      "source": [
        "<a href=\"https://colab.research.google.com/github/ASMT-College/lab-2-association-mining-nikhillamsal/blob/main/Lab2.ipynb\" target=\"_parent\"><img src=\"https://colab.research.google.com/assets/colab-badge.svg\" alt=\"Open In Colab\"/></a>"
      ]
    },
    {
      "cell_type": "code",
      "execution_count": null,
      "metadata": {
        "id": "83zNabES6Ync"
      },
      "outputs": [],
      "source": []
    },
    {
      "cell_type": "markdown",
      "source": [
        "Association Mining"
      ],
      "metadata": {
        "id": "cabaZnp16iB3"
      }
    },
    {
      "cell_type": "code",
      "source": [
        "import pandas as pd\n",
        "from mlxtend.frequent_patterns import apriori, association_rules\n",
        "\n",
        "# Step 1: Load the dataset\n",
        "data = {\n",
        "    'TransactionID': [1, 2, 3, 4, 5],\n",
        "    'Items': [\n",
        "        ['Bread', 'Milk'],\n",
        "        ['Bread', 'Diaper', 'Beer', 'Eggs'],\n",
        "        ['Milk', 'Diaper', 'Beer', 'Coke'],\n",
        "        ['Bread', 'Milk', 'Diaper', 'Beer'],\n",
        "        ['Bread', 'Milk', 'Diaper', 'Coke']\n",
        "    ]\n",
        "}\n",
        "df = pd.DataFrame(data)\n",
        "print(\"Initial Data:\\n\", df)\n",
        "\n",
        "# Step 2: Convert dataset into a format suitable for the Apriori algorithm\n",
        "# Convert the list of items into one-hot encoded format\n",
        "df_items = df['Items'].apply(lambda x: pd.Series(1, index=x)).fillna(0)\n",
        "print(\"\\nOne-Hot Encoded Data:\\n\", df_items)\n",
        "\n",
        "# Step 3: Apply the Apriori algorithm to find frequent itemsets\n",
        "# Use a minimum support threshold of 0.6 (at least 60% of transactions)\n",
        "frequent_itemsets = apriori(df_items, min_support=0.6, use_colnames=True)\n",
        "print(\"\\nFrequent Itemsets:\\n\", frequent_itemsets)\n",
        "\n",
        "# Step 4: Generate association rules from the frequent itemsets\n",
        "# Use a minimum confidence threshold of 0.7 (at least 70% confidence)\n",
        "rules = association_rules(frequent_itemsets, metric=\"confidence\", min_threshold=0.7)\n",
        "print(\"\\nAssociation Rules:\\n\", rules)\n",
        "\n",
        "# Step 5: Interpret the results\n",
        "# Display the rules in a simple format\n",
        "for _, row in rules.iterrows():\n",
        "    print(f\"\\nRule: {set(row['antecedents'])} -> {set(row['consequents'])}\")\n",
        "    print(f\"Support: {row['support']:.2f}\")\n",
        "    print(f\"Confidence: {row['confidence']:.2f}\")\n",
        "    print(f\"Lift: {row['lift']:.2f}\")\n"
      ],
      "metadata": {
        "colab": {
          "base_uri": "https://localhost:8080/"
        },
        "id": "5ARPZXhl6jAg",
        "outputId": "4c37814e-28f3-4cca-93c6-0d98a10c2a0d"
      },
      "execution_count": 2,
      "outputs": [
        {
          "output_type": "stream",
          "name": "stdout",
          "text": [
            "Initial Data:\n",
            "    TransactionID                        Items\n",
            "0              1                [Bread, Milk]\n",
            "1              2  [Bread, Diaper, Beer, Eggs]\n",
            "2              3   [Milk, Diaper, Beer, Coke]\n",
            "3              4  [Bread, Milk, Diaper, Beer]\n",
            "4              5  [Bread, Milk, Diaper, Coke]\n",
            "\n",
            "One-Hot Encoded Data:\n",
            "    Bread  Milk  Diaper  Beer  Eggs  Coke\n",
            "0    1.0   1.0     0.0   0.0   0.0   0.0\n",
            "1    1.0   0.0     1.0   1.0   1.0   0.0\n",
            "2    0.0   1.0     1.0   1.0   0.0   1.0\n",
            "3    1.0   1.0     1.0   1.0   0.0   0.0\n",
            "4    1.0   1.0     1.0   0.0   0.0   1.0\n",
            "\n",
            "Frequent Itemsets:\n",
            "    support         itemsets\n",
            "0      0.8          (Bread)\n",
            "1      0.8           (Milk)\n",
            "2      0.8         (Diaper)\n",
            "3      0.6           (Beer)\n",
            "4      0.6    (Milk, Bread)\n",
            "5      0.6  (Diaper, Bread)\n",
            "6      0.6   (Milk, Diaper)\n",
            "7      0.6   (Beer, Diaper)\n",
            "\n",
            "Association Rules:\n",
            "   antecedents consequents  antecedent support  consequent support  support  \\\n",
            "0      (Milk)     (Bread)                 0.8                 0.8      0.6   \n",
            "1     (Bread)      (Milk)                 0.8                 0.8      0.6   \n",
            "2    (Diaper)     (Bread)                 0.8                 0.8      0.6   \n",
            "3     (Bread)    (Diaper)                 0.8                 0.8      0.6   \n",
            "4      (Milk)    (Diaper)                 0.8                 0.8      0.6   \n",
            "5    (Diaper)      (Milk)                 0.8                 0.8      0.6   \n",
            "6      (Beer)    (Diaper)                 0.6                 0.8      0.6   \n",
            "7    (Diaper)      (Beer)                 0.8                 0.6      0.6   \n",
            "\n",
            "   confidence    lift  representativity  leverage  conviction  zhangs_metric  \\\n",
            "0        0.75  0.9375               1.0     -0.04         0.8          -0.25   \n",
            "1        0.75  0.9375               1.0     -0.04         0.8          -0.25   \n",
            "2        0.75  0.9375               1.0     -0.04         0.8          -0.25   \n",
            "3        0.75  0.9375               1.0     -0.04         0.8          -0.25   \n",
            "4        0.75  0.9375               1.0     -0.04         0.8          -0.25   \n",
            "5        0.75  0.9375               1.0     -0.04         0.8          -0.25   \n",
            "6        1.00  1.2500               1.0      0.12         inf           0.50   \n",
            "7        0.75  1.2500               1.0      0.12         1.6           1.00   \n",
            "\n",
            "   jaccard  certainty  kulczynski  \n",
            "0     0.60     -0.250       0.750  \n",
            "1     0.60     -0.250       0.750  \n",
            "2     0.60     -0.250       0.750  \n",
            "3     0.60     -0.250       0.750  \n",
            "4     0.60     -0.250       0.750  \n",
            "5     0.60     -0.250       0.750  \n",
            "6     0.75      1.000       0.875  \n",
            "7     0.75      0.375       0.875  \n",
            "\n",
            "Rule: {'Milk'} -> {'Bread'}\n",
            "Support: 0.60\n",
            "Confidence: 0.75\n",
            "Lift: 0.94\n",
            "\n",
            "Rule: {'Bread'} -> {'Milk'}\n",
            "Support: 0.60\n",
            "Confidence: 0.75\n",
            "Lift: 0.94\n",
            "\n",
            "Rule: {'Diaper'} -> {'Bread'}\n",
            "Support: 0.60\n",
            "Confidence: 0.75\n",
            "Lift: 0.94\n",
            "\n",
            "Rule: {'Bread'} -> {'Diaper'}\n",
            "Support: 0.60\n",
            "Confidence: 0.75\n",
            "Lift: 0.94\n",
            "\n",
            "Rule: {'Milk'} -> {'Diaper'}\n",
            "Support: 0.60\n",
            "Confidence: 0.75\n",
            "Lift: 0.94\n",
            "\n",
            "Rule: {'Diaper'} -> {'Milk'}\n",
            "Support: 0.60\n",
            "Confidence: 0.75\n",
            "Lift: 0.94\n",
            "\n",
            "Rule: {'Beer'} -> {'Diaper'}\n",
            "Support: 0.60\n",
            "Confidence: 1.00\n",
            "Lift: 1.25\n",
            "\n",
            "Rule: {'Diaper'} -> {'Beer'}\n",
            "Support: 0.60\n",
            "Confidence: 0.75\n",
            "Lift: 1.25\n"
          ]
        },
        {
          "output_type": "stream",
          "name": "stderr",
          "text": [
            "/usr/local/lib/python3.11/dist-packages/mlxtend/frequent_patterns/fpcommon.py:161: DeprecationWarning: DataFrames with non-bool types result in worse computationalperformance and their support might be discontinued in the future.Please use a DataFrame with bool type\n",
            "  warnings.warn(\n"
          ]
        }
      ]
    }
  ]
}